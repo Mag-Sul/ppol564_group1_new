{
 "cells": [
  {
   "cell_type": "code",
   "execution_count": 1,
   "id": "1fd8a270",
   "metadata": {},
   "outputs": [],
   "source": [
    "## helpful packages\n",
    "\n",
    "# Administrative stuff:\n",
    "import os\n",
    "\n",
    "# For Data manipulation:\n",
    "import pandas as pd\n",
    "import numpy as np\n",
    "import random\n",
    "import re\n",
    "\n",
    "# Nice to haves\n",
    "import geopandas as gpd\n",
    "import matplotlib.pyplot as plt\n",
    "from shapely.geometry import Point, Polygon\n",
    "# import googlemaps\n",
    "import plotly.graph_objects as go\n",
    "\n",
    "## dynamic text updating\n",
    "from IPython.display import Markdown as md\n",
    "\n",
    "## repeated printouts\n",
    "from IPython.core.interactiveshell import InteractiveShell\n",
    "InteractiveShell.ast_node_interactivity = \"all\""
   ]
  },
  {
   "cell_type": "code",
   "execution_count": 2,
   "id": "d98424d7",
   "metadata": {},
   "outputs": [
    {
     "ename": "ReadError",
     "evalue": "C:\\Users\\Sanha Tahir\\Downloads\\GeorgeTown\\Data Science I\\Final Project\\ppol564_group1_new\\code\\daily_aqi_by_county_2021.zip is not a zip file",
     "output_type": "error",
     "traceback": [
      "\u001b[1;31m---------------------------------------------------------------------------\u001b[0m",
      "\u001b[1;31mReadError\u001b[0m                                 Traceback (most recent call last)",
      "Input \u001b[1;32mIn [2]\u001b[0m, in \u001b[0;36m<cell line: 8>\u001b[1;34m()\u001b[0m\n\u001b[0;32m      6\u001b[0m     os\u001b[38;5;241m.\u001b[39mmakedirs(extract_dir)\n\u001b[0;32m      7\u001b[0m \u001b[38;5;28;01mimport\u001b[39;00m \u001b[38;5;21;01mshutil\u001b[39;00m\n\u001b[1;32m----> 8\u001b[0m \u001b[43mshutil\u001b[49m\u001b[38;5;241;43m.\u001b[39;49m\u001b[43munpack_archive\u001b[49m\u001b[43m(\u001b[49m\u001b[43mfilename\u001b[49m\u001b[43m,\u001b[49m\u001b[43m \u001b[49m\u001b[43mextract_dir\u001b[49m\u001b[43m)\u001b[49m\n",
      "File \u001b[1;32m~\\anaconda3\\envs\\my-env\\lib\\shutil.py:1271\u001b[0m, in \u001b[0;36munpack_archive\u001b[1;34m(filename, extract_dir, format)\u001b[0m\n\u001b[0;32m   1269\u001b[0m func \u001b[38;5;241m=\u001b[39m _UNPACK_FORMATS[\u001b[38;5;28mformat\u001b[39m][\u001b[38;5;241m1\u001b[39m]\n\u001b[0;32m   1270\u001b[0m kwargs \u001b[38;5;241m=\u001b[39m \u001b[38;5;28mdict\u001b[39m(_UNPACK_FORMATS[\u001b[38;5;28mformat\u001b[39m][\u001b[38;5;241m2\u001b[39m])\n\u001b[1;32m-> 1271\u001b[0m func(filename, extract_dir, \u001b[38;5;241m*\u001b[39m\u001b[38;5;241m*\u001b[39mkwargs)\n",
      "File \u001b[1;32m~\\anaconda3\\envs\\my-env\\lib\\shutil.py:1170\u001b[0m, in \u001b[0;36m_unpack_zipfile\u001b[1;34m(filename, extract_dir)\u001b[0m\n\u001b[0;32m   1167\u001b[0m \u001b[38;5;28;01mimport\u001b[39;00m \u001b[38;5;21;01mzipfile\u001b[39;00m  \u001b[38;5;66;03m# late import for breaking circular dependency\u001b[39;00m\n\u001b[0;32m   1169\u001b[0m \u001b[38;5;28;01mif\u001b[39;00m \u001b[38;5;129;01mnot\u001b[39;00m zipfile\u001b[38;5;241m.\u001b[39mis_zipfile(filename):\n\u001b[1;32m-> 1170\u001b[0m     \u001b[38;5;28;01mraise\u001b[39;00m ReadError(\u001b[38;5;124m\"\u001b[39m\u001b[38;5;132;01m%s\u001b[39;00m\u001b[38;5;124m is not a zip file\u001b[39m\u001b[38;5;124m\"\u001b[39m \u001b[38;5;241m%\u001b[39m filename)\n\u001b[0;32m   1172\u001b[0m \u001b[38;5;28mzip\u001b[39m \u001b[38;5;241m=\u001b[39m zipfile\u001b[38;5;241m.\u001b[39mZipFile(filename)\n\u001b[0;32m   1173\u001b[0m \u001b[38;5;28;01mtry\u001b[39;00m:\n",
      "\u001b[1;31mReadError\u001b[0m: C:\\Users\\Sanha Tahir\\Downloads\\GeorgeTown\\Data Science I\\Final Project\\ppol564_group1_new\\code\\daily_aqi_by_county_2021.zip is not a zip file"
     ]
    }
   ],
   "source": [
    "# Unzipping and getting files\n",
    "filename = os.getcwd() + \"\\\\daily_aqi_by_county_2021.zip\"\n",
    "extract_dir = os.getcwd() + \"\\\\AirQ_Unzipped\"\n",
    "\n",
    "if not os.path.exists(extract_dir):\n",
    "    os.makedirs(extract_dir)\n",
    "import shutil\n",
    "shutil.unpack_archive(filename, extract_dir)"
   ]
  },
  {
   "cell_type": "code",
   "execution_count": null,
   "id": "9907f0ed",
   "metadata": {},
   "outputs": [],
   "source": [
    "# Loading Data:\n",
    "airq_0 = pd.read_csv(\"AirQ_Unzipped\\\\daily_aqi_by_county_2021.csv\")"
   ]
  },
  {
   "cell_type": "code",
   "execution_count": null,
   "id": "be216e89",
   "metadata": {},
   "outputs": [],
   "source": [
    "airq_0.info()\n",
    "airq_0.head(n=10)\n",
    "airq_0.shape"
   ]
  },
  {
   "cell_type": "code",
   "execution_count": null,
   "id": "0c2fcd32",
   "metadata": {},
   "outputs": [],
   "source": [
    "airq_kt = airq_0[airq_0[\"State Name\"] == \"Kentucky\"]\n",
    "airq_kt.head(n=10)\n",
    "airq_kt.shape"
   ]
  },
  {
   "cell_type": "code",
   "execution_count": null,
   "id": "d77ffc64",
   "metadata": {},
   "outputs": [],
   "source": [
    "len(pd.unique(airq_kt[\"county Name\"]))\n",
    "len(pd.unique(airq_kt[\"Defining Site\"]))\n",
    "pd.unique(airq_kt[\"county Name\"])"
   ]
  },
  {
   "cell_type": "code",
   "execution_count": null,
   "id": "204f283f",
   "metadata": {},
   "outputs": [],
   "source": [
    "import seaborn as sns\n",
    "\n",
    "sns.set(rc={'figure.figsize':(11.7,8.27)})\n",
    "sns.lineplot(data = airq_kt, x = \"Date\", y = \"AQI\", hue= \"county Name\" ).set(title='Well, this is horrifying!')"
   ]
  },
  {
   "cell_type": "code",
   "execution_count": null,
   "id": "84e7b3d0",
   "metadata": {},
   "outputs": [],
   "source": [
    "so2_0 = pd.read_csv(\"C:\\\\Users\\\\Sanha Tahir\\\\Downloads\\\\GeorgeTown\\\\Data Science I\\\\Final Project\\\\daily_44201_2019.csv\")\n",
    "so2_0.info()"
   ]
  },
  {
   "cell_type": "code",
   "execution_count": null,
   "id": "0a8113ed",
   "metadata": {},
   "outputs": [],
   "source": [
    "so2_k = so2_0[so2_0[\"State Name\"] == \"Kentucky\"]\n",
    "pd.unique(so2_k[\"County Name\"])"
   ]
  },
  {
   "cell_type": "code",
   "execution_count": null,
   "id": "93010bd5",
   "metadata": {},
   "outputs": [],
   "source": [
    "import os\n",
    "import geopandas as gpd\n",
    "import plotly.graph_objects as go\n",
    "\n",
    "## DATA FILE\n",
    "# reformat our data as GeoPandas DF\n",
    "crs = {'init': 'EPSG:4326'}\n",
    "geometry = [Point(longlat) for longlat in zip(so2_k['Longitude'], so2_k['Latitude'])]\n",
    "geo_df = gpd.GeoDataFrame(so2_k, crs = crs, geometry = geometry)\n",
    "# geo_df.head()\n",
    "\n",
    "## SHP FILE\n",
    "# Unzipping and getting shape files\n",
    "# C:\\Users\\Sanha Tahir\\Downloads\\GeorgeTown\\Data Science I\\Assignment 4\\ShapeFiles\\tl_2019_13_cousub\n",
    "filename = \"C:\\\\Users\\\\Sanha Tahir\\\\Downloads\\\\GeorgeTown\\\\Data Science I\\\\Assignment 4\\\\ShapeFiles\\\\tl_2019_13_cousub.shp\"\n",
    "map2 = gpd.read_file(filename)\n",
    "# # Projects it onto a map:\n",
    "# map2.to_crs(epsg = 4326).plot()\n",
    "\n",
    "#px.set_mapbox_access_token(open(\".mapbox_token\").read())\n",
    "fig = go.Figure(data = go.Scattergeo(lon = geo_df[\"Longitude\"], \n",
    "                                     lat = geo_df[\"Latitude\"], \n",
    "                                     text = geo_df[\"City Name\"], \n",
    "                                     mode = \"markers\"))\n",
    "fig = fig.update_layout(title = \"Map of SMT\", geo_scope = 'usa')\n",
    "fig.show()"
   ]
  },
  {
   "cell_type": "code",
   "execution_count": null,
   "id": "55a9e5c6",
   "metadata": {},
   "outputs": [],
   "source": [
    "so2_k.info()"
   ]
  },
  {
   "cell_type": "code",
   "execution_count": null,
   "id": "05352b99",
   "metadata": {},
   "outputs": [],
   "source": [
    "so2_k.shape\n",
    "# With 9,306 rows: only 12 map?\n",
    "pd.unique(so2_k[\"City Name\"])\n",
    "# so2_k.sample(n=10)\n",
    "for colnm in so2_k.columns:\n",
    "    print(\"Column being checked: \" + str(colnm))\n",
    "    len(pd.unique(so2_k[colnm]))\n",
    "    pd.unique(so2_k[colnm])"
   ]
  },
  {
   "cell_type": "code",
   "execution_count": null,
   "id": "a31b1edc",
   "metadata": {},
   "outputs": [],
   "source": [
    "#* so2_k[\"City Name\"].value_counts()\n",
    "so2k_worthington = so2_k[so2_k[\"City Name\"] == \"Worthington\"]\n",
    "len(pd.unique(so2_k[\"City Name\"]))\n",
    "len(pd.unique(so2k_worthington[\"Date Local\"]))\n",
    "len(pd.unique(so2_k[\"Date Local\"]))\n",
    "pd.unique(so2_k[\"Datum\"])\n",
    "pd.unique(so2_k[\"Parameter Name\"])\n",
    "pd.unique(so2_k[\"Sample Duration\"])"
   ]
  },
  {
   "cell_type": "code",
   "execution_count": null,
   "id": "cc6b66cf",
   "metadata": {},
   "outputs": [],
   "source": [
    "pd.DataFrame(so2_k.groupby([\"City Name\", \"Longitude\", \"Latitude\"]))"
   ]
  },
  {
   "cell_type": "code",
   "execution_count": null,
   "id": "93eab8fa",
   "metadata": {},
   "outputs": [],
   "source": [
    "pd.DataFrame(so2_k.groupby([\"Method Code\", \"Method Name\"]))"
   ]
  },
  {
   "cell_type": "markdown",
   "id": "105e1206",
   "metadata": {},
   "source": [
    "# Vizzzz"
   ]
  },
  {
   "cell_type": "code",
   "execution_count": null,
   "id": "0d870004",
   "metadata": {},
   "outputs": [],
   "source": [
    "import numpy as np\n",
    "import pandas as pd\n",
    "import matplotlib.pyplot as plt\n",
    "import seaborn as sns\n",
    "import matplotlib.ticker as ticker"
   ]
  },
  {
   "cell_type": "code",
   "execution_count": null,
   "id": "afa9cea7",
   "metadata": {},
   "outputs": [],
   "source": [
    "# so2_k[\"Month\"] = [dat[5:7] for dat in so2_k[\"Date Local\"]]\n",
    "so2_k[\"YM\"] = [dat[:7] for dat in so2_k[\"Date Local\"]]\n",
    "so2_k.info()"
   ]
  },
  {
   "cell_type": "code",
   "execution_count": null,
   "id": "1d2924f3",
   "metadata": {},
   "outputs": [],
   "source": [
    "so2_k[\"AQI\"]"
   ]
  },
  {
   "cell_type": "code",
   "execution_count": null,
   "id": "3033e909",
   "metadata": {},
   "outputs": [],
   "source": [
    "sns.set_style('darkgrid')\n",
    "sns.set(rc={'figure.figsize':(14,8)})\n",
    "\n",
    "ax = sns.lineplot(data= so2_k, x ='Date Local', y = 'AQI',\n",
    "                  hue='County Code', palette='viridis',\n",
    "                  legend='full', lw=3)\n",
    "\n",
    "ax.xaxis.set_major_locator(ticker.MultipleLocator(4))\n",
    "plt.legend(bbox_to_anchor=(1, 1))\n",
    "plt.ylabel('PM2.5 (µg/m3)')\n",
    "plt.xlabel('Year-Month')\n",
    "plt.show()"
   ]
  },
  {
   "cell_type": "code",
   "execution_count": null,
   "id": "2c908375",
   "metadata": {},
   "outputs": [],
   "source": [
    "list_scode = list(set(so2_k['County Name']))\n",
    "\n",
    "import plotly.graph_objects as go\n",
    "\n",
    "#extract color palette, the palette name can be changed\n",
    "pal = list(sns.color_palette(palette=\"rocket\", n_colors=len(list_scode)).as_hex())\n",
    "\n",
    "months = list(reversed([str(i) for i in list(range(1,13))])) + ['12']\n",
    "list_PM = [[list(so2_k[so2_k['County Name']==i]['AQI'])[int(n)-1] for n in months] for i in list_scode]\n",
    "\n",
    "fig = go.Figure()\n",
    "\n",
    "for pm,d,c in zip(list_PM, list_scode, pal):\n",
    "    fig.add_trace(go.Scatterpolar(r = pm, theta=months, fill= None,\n",
    "                                  name=str(d), marker = dict(color = c)));\n",
    "\n",
    "fig.update_layout(polar = dict(radialaxis = dict(visible = True, range=[0, 25]),\n",
    "                               angularaxis = dict(rotation=90)),\n",
    "                  showlegend=True, width=700, height=600,\n",
    "                  font = dict(size=14));"
   ]
  },
  {
   "cell_type": "code",
   "execution_count": null,
   "id": "c38a2535",
   "metadata": {},
   "outputs": [],
   "source": [
    "fig.show()"
   ]
  },
  {
   "cell_type": "code",
   "execution_count": null,
   "id": "bb7a801d",
   "metadata": {},
   "outputs": [],
   "source": [
    "max_val = max(so2_k[\"AQI\"])*1.001        #set max value\n",
    "# pal = list(sns.color_palette(palette='YlOrRd', n_colors=len(list_scode)).as_hex())\n",
    "pal = list(sns.color_palette(palette='YlOrRd', n_colors=12).as_hex())\n",
    "\n",
    "def circular_bar(input_df, column_name, title):\n",
    "    plt.gcf().set_size_inches(12, 12)\n",
    "    ax = plt.subplot(projection='polar')\n",
    "    input_df.reset_index(inplace=True, drop=True)\n",
    "    print(len(input_df))\n",
    "    for i in range(len(pd.unique(input_df['County Name']))):\n",
    "        ax.barh(i, input_df[column_name][i]*2*np.pi/max_val, \n",
    "                label=input_df['County Name'][i], \n",
    "                color=pal[i])\n",
    "\n",
    "    ax.set_theta_zero_location('N')\n",
    "    ax.set_theta_direction(1)\n",
    "    ax.set_rlabel_position(0)\n",
    "    ax.set_thetagrids([], labels=[])\n",
    "    ax.set_rgrids(range(len(input_df)), labels= input_df['County Name'])\n",
    "\n",
    "    ax = plt.subplot(projection='polar')\n",
    "    plt.title(\"Average PM2.5 // \" + title)\n",
    "    return ax"
   ]
  },
  {
   "cell_type": "code",
   "execution_count": null,
   "id": "ea012210",
   "metadata": {},
   "outputs": [],
   "source": [
    "pal[0]"
   ]
  },
  {
   "cell_type": "code",
   "execution_count": null,
   "id": "a658dae5",
   "metadata": {},
   "outputs": [],
   "source": [
    "list_month19 = list(set(so2_k['Month']))\n",
    "list_YM19 = list(set(so2_k['YM']))\n",
    "list_YM19.sort()\n",
    "listdf_monthly19 = [so2_k[so2_k['Month']==str(i)] for i in list_month19]\n",
    "\n",
    "keep_sname = []\n",
    "order = range(len(listdf_monthly19))\n",
    "for i in order:\n",
    "    print(i)\n",
    "    circular_bar(listdf_monthly19[i],'AQI', list_YM19[i])\n",
    "    keep_sname.append('cir_bar_' + str(i) + '.png')\n",
    "    plt.savefig('cir_bar_' + str(i) + '.png')\n",
    "    plt.show()"
   ]
  }
 ],
 "metadata": {
  "kernelspec": {
   "display_name": "Python 3 (ipykernel)",
   "language": "python",
   "name": "python3"
  },
  "language_info": {
   "codemirror_mode": {
    "name": "ipython",
    "version": 3
   },
   "file_extension": ".py",
   "mimetype": "text/x-python",
   "name": "python",
   "nbconvert_exporter": "python",
   "pygments_lexer": "ipython3",
   "version": "3.9.13"
  }
 },
 "nbformat": 4,
 "nbformat_minor": 5
}
